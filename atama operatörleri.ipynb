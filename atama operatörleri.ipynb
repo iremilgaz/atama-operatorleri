{
 "cells": [
  {
   "cell_type": "code",
   "execution_count": 1,
   "id": "c98db7c4",
   "metadata": {},
   "outputs": [],
   "source": [
    "sayi = 10"
   ]
  },
  {
   "cell_type": "code",
   "execution_count": 2,
   "id": "9c7b2ffb",
   "metadata": {},
   "outputs": [],
   "source": [
    "sayi +=5"
   ]
  },
  {
   "cell_type": "code",
   "execution_count": 3,
   "id": "f3baa6a9",
   "metadata": {},
   "outputs": [],
   "source": [
    "sayi -=3"
   ]
  },
  {
   "cell_type": "code",
   "execution_count": 5,
   "id": "10ea6e19",
   "metadata": {},
   "outputs": [],
   "source": [
    "sayi *=2"
   ]
  },
  {
   "cell_type": "code",
   "execution_count": 6,
   "id": "c181194c",
   "metadata": {},
   "outputs": [],
   "source": [
    "sayi /=4"
   ]
  },
  {
   "cell_type": "code",
   "execution_count": 7,
   "id": "99668634",
   "metadata": {},
   "outputs": [
    {
     "name": "stdout",
     "output_type": "stream",
     "text": [
      "6.0\n"
     ]
    }
   ],
   "source": [
    "print(sayi)"
   ]
  },
  {
   "cell_type": "code",
   "execution_count": 8,
   "id": "32dfc762",
   "metadata": {},
   "outputs": [],
   "source": [
    "#görev2\n",
    "metin = \"python\""
   ]
  },
  {
   "cell_type": "code",
   "execution_count": 10,
   "id": "044871dd",
   "metadata": {},
   "outputs": [],
   "source": [
    "metin += \" programlama\""
   ]
  },
  {
   "cell_type": "code",
   "execution_count": 13,
   "id": "e205589a",
   "metadata": {},
   "outputs": [
    {
     "name": "stdout",
     "output_type": "stream",
     "text": [
      "pythonprogramlama\n"
     ]
    }
   ],
   "source": [
    "print(metin)"
   ]
  },
  {
   "cell_type": "code",
   "execution_count": null,
   "id": "6a28ecc3",
   "metadata": {},
   "outputs": [],
   "source": []
  }
 ],
 "metadata": {
  "kernelspec": {
   "display_name": "Python 3 (ipykernel)",
   "language": "python",
   "name": "python3"
  },
  "language_info": {
   "codemirror_mode": {
    "name": "ipython",
    "version": 3
   },
   "file_extension": ".py",
   "mimetype": "text/x-python",
   "name": "python",
   "nbconvert_exporter": "python",
   "pygments_lexer": "ipython3",
   "version": "3.9.12"
  }
 },
 "nbformat": 4,
 "nbformat_minor": 5
}
